{
 "cells": [
  {
   "cell_type": "markdown",
   "id": "18ce33b9",
   "metadata": {},
   "source": [
    "My goal here will be to create some initial recommendations for a fake user. Let's create a persona.\n",
    "First, I'll create a list of their top-5-ranked-wines, by id:"
   ]
  },
  {
   "cell_type": "markdown",
   "id": "16a2b746",
   "metadata": {},
   "source": [
    "## 1. Setup of wine data and our fake user"
   ]
  },
  {
   "cell_type": "code",
   "execution_count": 15,
   "id": "17d37b74",
   "metadata": {},
   "outputs": [],
   "source": [
    "# set up\n",
    "import pandas as pd\n",
    "import numpy as np\n",
    "from sklearn import preprocessing\n",
    "from sklearn.cluster import KMeans\n",
    "import matplotlib.pyplot as plt\n",
    "wines = pd.read_csv('/Users/erinberridge/blendbud/wine_data3.csv')\n",
    "wines.set_index(\"id\", inplace=True)"
   ]
  },
  {
   "cell_type": "code",
   "execution_count": 3,
   "id": "11a167b3",
   "metadata": {},
   "outputs": [
    {
     "name": "stdout",
     "output_type": "stream",
     "text": [
      "                                               name                  type  \\\n",
      "id                                                                          \n",
      "1386686                            Ribera del Duero  Ribera Del Duero Red   \n",
      "5177761  Castillo Ygay Gran Reserva Especial Blanco           Rioja White   \n",
      "1649800     Premiere Napa Valley Cabernet Sauvignon    Cabernet Sauvignon   \n",
      "8890662                                   Ancestral  Ribera Del Duero Red   \n",
      "93974                                        Zeus I        Bordeaux Blend   \n",
      "\n",
      "          acidity  fizziness  intensity  sweetness    tannin      flavor1  \\\n",
      "id                                                                          \n",
      "1386686  3.722730        NaN   3.898362   1.729622  3.479897          oak   \n",
      "5177761  3.187570        NaN   4.208895   1.854672       NaN          oak   \n",
      "1649800  3.314111        NaN   4.743439   1.549094  3.364849   blackberry   \n",
      "8890662  3.838014        NaN   3.989114   1.609527  3.955012          oak   \n",
      "93974    2.500000        NaN   5.000000   1.000000  3.626667  black fruit   \n",
      "\n",
      "            flavor2     flavor3  flavor4  flavor5  average_rating  \\\n",
      "id                                                                  \n",
      "1386686     vanilla  blackberry   cherry  leather             4.1   \n",
      "5177761     vanilla       honey  caramel    smoke             4.6   \n",
      "1649800     vanilla       cedar      oak  tobacco             4.6   \n",
      "8890662     vanilla        plum    smoke    cocoa             4.5   \n",
      "93974    blackberry        plum  vanilla      oak             4.5   \n",
      "\n",
      "         price_amount price_currency  review_count          food_ids  \\\n",
      "id                                                                     \n",
      "1386686     52.572718            USD         74171          4; 8; 11   \n",
      "5177761     50.979605            USD          2776    13; 27; 28; 41   \n",
      "1649800     57.352056            USD           386  4; 8; 11; 17; 20   \n",
      "8890662     94.949514            USD           628          4; 8; 11   \n",
      "93974       89.214309            USD            97       4; 5; 9; 20   \n",
      "\n",
      "                                                food_names  \n",
      "id                                                          \n",
      "1386686                   Beef; Lamb; Game (deer, venison)  \n",
      "5177761  Shellfish; Appetizers and snacks; Lean fish; C...  \n",
      "1649800  Beef; Lamb; Game (deer, venison); Mature and h...  \n",
      "8890662                   Beef; Lamb; Game (deer, venison)  \n",
      "93974                           Beef; Pasta; Veal; Poultry  \n"
     ]
    }
   ],
   "source": [
    "top5_ids = [1386686,5177761,1649800,8890662,93974]\n",
    "df_top5 = wines.loc[top5_ids]\n",
    "print(df_top5)"
   ]
  },
  {
   "cell_type": "markdown",
   "id": "731b774b",
   "metadata": {},
   "source": [
    "## 2. Predicting a Real, Desired Wine based on a Hypothetical, Dream Wine"
   ]
  },
  {
   "cell_type": "markdown",
   "id": "05aa26ef",
   "metadata": {},
   "source": [
    "I'm going to approach this starting with the same strategy from the Clustering Exploration Notebook. The plan: average the user's top 5 rankings in terms of acidity, fizziness, etc and use this to create a 'new hypothetical dream wine.' Then, create the clusters for all of the wines in the db, and attempt to assign this 'new hypothetical dream wine' to a cluster. From there, we can pick wines in the same cluster to recommend based off of other features, like familiar flavors or a similar price point."
   ]
  },
  {
   "cell_type": "code",
   "execution_count": 66,
   "id": "b75370cd",
   "metadata": {},
   "outputs": [
    {
     "name": "stdout",
     "output_type": "stream",
     "text": [
      "acidity            3.312485\n",
      "intensity          4.367962\n",
      "sweetness          1.548583\n",
      "tannin             3.606606\n",
      "average_rating     4.460000\n",
      "price_amount      69.013640\n",
      "dtype: float64\n",
      "[260 126 181 199  32 250]\n"
     ]
    },
    {
     "data": {
      "text/plain": [
       "<matplotlib.collections.PathCollection at 0x7f9b82f49af0>"
      ]
     },
     "execution_count": 66,
     "metadata": {},
     "output_type": "execute_result"
    },
    {
     "data": {
      "image/png": "[encoded data removed]",
      "text/plain": [
       "<Figure size 432x288 with 1 Axes>"
      ]
     },
     "metadata": {
      "needs_background": "light"
     },
     "output_type": "display_data"
    }
   ],
   "source": [
    "# creating the user's 'dream wine'\n",
    "averages = df_top5.mean(axis=0,skipna=True,numeric_only=True)\n",
    "averages.drop(['fizziness', 'review_count'], inplace=True)\n",
    "print(averages)\n",
    "\n",
    "# creating a numeric-only version of the wine data\n",
    "wine_numeric = wines.select_dtypes(include=np.number)\n",
    "wine_numeric = wine_numeric.fillna(wine_numeric.mean()) # note the fizziness imputation is meaningless\n",
    "wine_numeric.drop(['fizziness', 'review_count'], axis=1, inplace=True)\n",
    "\n",
    "# preprocessing/scaling features\n",
    "x = wine_numeric.values\n",
    "min_max_scaler = preprocessing.MinMaxScaler()\n",
    "x_scaled = min_max_scaler.fit_transform(x)\n",
    "model = KMeans(n_clusters=6).fit(x_scaled) # 6 clusters/groups of wines\n",
    "values, counts = np.unique(model.labels_, return_counts = True)\n",
    "wine_numeric['cluster'] = model.labels_\n",
    "wines['cluster'] = model.labels_\n",
    "print(counts)\n",
    "\n",
    "# visualize the clustering by acidity/sweetness\n",
    "sweetness = wine_numeric['sweetness']\n",
    "acidity = wine_numeric['acidity']\n",
    "cluster = wine_numeric['cluster']\n",
    "plt.scatter(x=acidity,y=sweetness,c=cluster)"
   ]
  },
  {
   "cell_type": "markdown",
   "id": "7e2c91a2",
   "metadata": {},
   "source": [
    "The clustering with 6 groups looks good, at least in this view. Now onto predicting for our dream wine\""
   ]
  },
  {
   "cell_type": "code",
   "execution_count": 67,
   "id": "9545ce59",
   "metadata": {},
   "outputs": [
    {
     "name": "stdout",
     "output_type": "stream",
     "text": [
      "resulting cluster assignment for dream wine:  3\n"
     ]
    }
   ],
   "source": [
    "#dream_x = averages.values\n",
    "#min_max_scaler = preprocessing.MinMaxScaler()\n",
    "#dream_X = pd.DataFrame(dream_x)\n",
    "\n",
    "dream_x = pd.DataFrame(averages.values.reshape(1,-1))\n",
    "#print(dream_x)\n",
    "results = model.predict(dream_x)\n",
    "print(\"resulting cluster assignment for dream wine: \", results[0])"
   ]
  },
  {
   "cell_type": "markdown",
   "id": "60b3b97f",
   "metadata": {},
   "source": [
    "Our hypothetical dream wine has been assigned to cluster 2."
   ]
  },
  {
   "cell_type": "code",
   "execution_count": 71,
   "id": "cd0ee464",
   "metadata": {},
   "outputs": [
    {
     "name": "stdout",
     "output_type": "stream",
     "text": [
      "                                              name            type   acidity  \\\n",
      "id                                                                             \n",
      "1171671                                    Margaux         Margaux  4.245219   \n",
      "1619759                                    Margaux         Margaux  4.182982   \n",
      "14362                  Pauillac (Grand Cru Classé)        Pauillac  4.196922   \n",
      "1125543                Pauillac (Grand Cru Classé)        Pauillac  4.149271   \n",
      "1152755  Pessac-Léognan (Premier Grand Cru Classé)  Pessac-Léognan  4.221047   \n",
      "...                                            ...             ...       ...   \n",
      "98074                                Saint-Estèphe   Saint-Estèphe  4.195325   \n",
      "1101093                                   Pauillac        Pauillac  4.245596   \n",
      "66114              Costa Russi (Barbaresco) Langhe      Barbaresco  4.649312   \n",
      "66134              Sorì Tildìn (Barbaresco) Langhe      Barbaresco  4.696530   \n",
      "66144                             Sorì San Lorenzo      Barbaresco  4.721140   \n",
      "\n",
      "         fizziness  intensity  sweetness    tannin  flavor1  flavor2  \\\n",
      "id                                                                     \n",
      "1171671        NaN   3.827806   1.350550  3.804564      oak  leather   \n",
      "1619759        NaN   3.782311   1.450584  3.967451  leather      oak   \n",
      "14362          NaN   4.218146   1.673496  4.224893  leather   cassis   \n",
      "1125543        NaN   4.052287   1.593127  4.093033  leather  tobacco   \n",
      "1152755        NaN   4.078622   1.672123  4.231319  leather  tobacco   \n",
      "...            ...        ...        ...       ...      ...      ...   \n",
      "98074          NaN   4.330022   1.477370  4.232255  leather      oak   \n",
      "1101093        NaN   4.288602   1.540219  4.250468      oak  tobacco   \n",
      "66114          NaN   3.738596   1.785242  3.971350  leather      oak   \n",
      "66134          NaN   3.821360   1.623274  4.030789  leather   cherry   \n",
      "66144          NaN   3.843902   1.767777  4.215737      tar  leather   \n",
      "\n",
      "            flavor3     flavor4       flavor5  average_rating  price_amount  \\\n",
      "id                                                                            \n",
      "1171671        plum  blackberry        earthy             4.0     29.348839   \n",
      "1619759      cassis        plum       tobacco             4.0     84.769968   \n",
      "14362           oak  blackberry       tobacco             4.4    241.268370   \n",
      "1125543         oak       cedar  blackcurrant             4.4    273.872204   \n",
      "1152755       smoke       cedar        earthy             4.6    489.057507   \n",
      "...             ...         ...           ...             ...           ...   \n",
      "98074        earthy     tobacco    blackberry             4.0     39.124601   \n",
      "1101093  blackberry     leather        cassis             4.0     52.166134   \n",
      "66114        cherry    mushroom           tar             4.6    443.412139   \n",
      "66134       tobacco         oak           tar             4.6    515.140574   \n",
      "66144       tobacco      cherry         smoke             4.6    802.054311   \n",
      "\n",
      "        price_currency  review_count      food_ids  \\\n",
      "id                                                   \n",
      "1171671            USD          6295  4; 8; 11; 20   \n",
      "1619759            USD          4866  4; 8; 11; 20   \n",
      "14362              USD         50956  4; 8; 11; 20   \n",
      "1125543            USD         42010  4; 8; 11; 20   \n",
      "1152755            USD         41975  4; 8; 11; 20   \n",
      "...                ...           ...           ...   \n",
      "98074              USD         12351  4; 8; 11; 20   \n",
      "1101093            USD          6308  4; 8; 11; 20   \n",
      "66114              USD          3077   4; 5; 8; 11   \n",
      "66134              USD          4188   4; 5; 8; 11   \n",
      "66144              USD          4097   4; 5; 8; 11   \n",
      "\n",
      "                                        food_names  cluster  \n",
      "id                                                           \n",
      "1171671  Beef; Lamb; Game (deer, venison); Poultry        2  \n",
      "1619759  Beef; Lamb; Game (deer, venison); Poultry        2  \n",
      "14362    Beef; Lamb; Game (deer, venison); Poultry        2  \n",
      "1125543  Beef; Lamb; Game (deer, venison); Poultry        2  \n",
      "1152755  Beef; Lamb; Game (deer, venison); Poultry        2  \n",
      "...                                            ...      ...  \n",
      "98074    Beef; Lamb; Game (deer, venison); Poultry        2  \n",
      "1101093  Beef; Lamb; Game (deer, venison); Poultry        2  \n",
      "66114      Beef; Pasta; Lamb; Game (deer, venison)        2  \n",
      "66134      Beef; Pasta; Lamb; Game (deer, venison)        2  \n",
      "66144      Beef; Pasta; Lamb; Game (deer, venison)        2  \n",
      "\n",
      "[181 rows x 19 columns]\n"
     ]
    }
   ],
   "source": [
    "our_cluster = wines.loc[wines['cluster'] == 2]\n",
    "print(our_cluster)"
   ]
  },
  {
   "cell_type": "markdown",
   "id": "5bf1e6a9",
   "metadata": {},
   "source": [
    "Great! Now we have narrowed down our suggestions to 181. From here, we can probably look at flavor profiles to get a more specific range of recommendations."
   ]
  },
  {
   "cell_type": "code",
   "execution_count": 72,
   "id": "f504bb8f",
   "metadata": {},
   "outputs": [
    {
     "name": "stdout",
     "output_type": "stream",
     "text": [
      "{'oak': 4, 'blackberry': 3, 'black fruit': 1, 'vanilla': 5, 'honey': 1, 'cedar': 1, 'plum': 2, 'cherry': 1, 'caramel': 1, 'smoke': 1}\n",
      "['vanilla', 'oak', 'blackberry', 'plum', 'black fruit', 'honey', 'cedar', 'cherry', 'caramel', 'smoke']\n"
     ]
    }
   ],
   "source": [
    "preferred_flavors = {}\n",
    "flavor1_list = df_top5['flavor1'].tolist()\n",
    "flavor2_list = df_top5['flavor2'].tolist()\n",
    "flavor3_list = df_top5['flavor3'].tolist()\n",
    "flavor4_list = df_top5['flavor4'].tolist()\n",
    "flavors_list = flavor1_list + flavor2_list + flavor3_list + flavor4_list\n",
    "#print(flavors_list)\n",
    "\n",
    "for flavor in flavors_list:\n",
    "    if flavor not in preferred_flavors:\n",
    "        preferred_flavors[flavor] = 1\n",
    "    else:\n",
    "        preferred_flavors[flavor] += 1\n",
    "\n",
    "print(preferred_flavors) # how many times each flavor occurs in our top 5\n",
    "mylist = sorted(preferred_flavors, key=preferred_flavors.get, reverse=True)\n",
    "print(mylist) # our user's top flavors, sorted from most-occurring to least"
   ]
  },
  {
   "cell_type": "code",
   "execution_count": 76,
   "id": "caf38544",
   "metadata": {},
   "outputs": [
    {
     "name": "stdout",
     "output_type": "stream",
     "text": [
      "                                                  name           type  \\\n",
      "id                                                                      \n",
      "1171671                                        Margaux        Margaux   \n",
      "4978718                                 Brunate Barolo         Barolo   \n",
      "2716528  Le Petit Mouton de Mouton Rothschild Pauillac       Pauillac   \n",
      "1179603              La Dame de Montrose Saint-Estèphe  Saint-Estèphe   \n",
      "6020                 Pavillon Rouge du Château Margaux        Margaux   \n",
      "...                                                ...            ...   \n",
      "779608                         Vigna Colonnello Barolo         Barolo   \n",
      "79876             Sarget de Gruaud Larose Saint-Julien   Saint-Julien   \n",
      "1148646                                  Listrac-Médoc  Listrac-Médoc   \n",
      "1137679                 Connétable Talbot Saint-Julien   Saint-Julien   \n",
      "1101093                                       Pauillac       Pauillac   \n",
      "\n",
      "          acidity  fizziness  intensity  sweetness    tannin flavor1  \\\n",
      "id                                                                     \n",
      "1171671  4.245219        NaN   3.827806   1.350550  3.804564     oak   \n",
      "4978718  4.524953        NaN   3.700612   1.838949  4.254279  cherry   \n",
      "2716528  4.150785        NaN   4.150941   1.668715  4.156061     oak   \n",
      "1179603  4.107018        NaN   4.269753   1.512836  4.295480     oak   \n",
      "6020     4.081700        NaN   3.660481   1.623927  3.730755     oak   \n",
      "...           ...        ...        ...        ...       ...     ...   \n",
      "779608   4.313956        NaN   3.690218   1.880248  4.040481     oak   \n",
      "79876    4.170560        NaN   3.804678   1.456875  3.831160     oak   \n",
      "1148646  4.182673        NaN   4.278510   1.457136  4.191475     oak   \n",
      "1137679  4.167437        NaN   3.885889   1.561943  3.890931     oak   \n",
      "1101093  4.245596        NaN   4.288602   1.540219  4.250468     oak   \n",
      "\n",
      "            flavor2       flavor3       flavor4       flavor5  average_rating  \\\n",
      "id                                                                              \n",
      "1171671     leather          plum    blackberry        earthy             4.0   \n",
      "4978718     tobacco  forest floor       leather    strawberry             4.5   \n",
      "2716528     leather        cherry          plum        cassis             4.4   \n",
      "1179603     leather    blackberry        cassis       tobacco             4.0   \n",
      "6020        leather       tobacco  blackcurrant         cedar             4.4   \n",
      "...             ...           ...           ...           ...             ...   \n",
      "779608      leather      mushroom       vanilla        earthy             4.2   \n",
      "79876       leather       tobacco        earthy  blackcurrant             4.0   \n",
      "1148646  blackberry       leather       tobacco          plum             4.0   \n",
      "1137679     leather  blackcurrant    blackberry        earthy             4.0   \n",
      "1101093     tobacco    blackberry       leather        cassis             4.0   \n",
      "\n",
      "         price_amount price_currency  review_count      food_ids  \\\n",
      "id                                                                 \n",
      "1171671     29.348839            USD          6295  4; 8; 11; 20   \n",
      "4978718    423.849839            USD          1253   4; 5; 8; 11   \n",
      "2716528    299.955271            USD          8700  4; 8; 11; 20   \n",
      "1179603    202.143769            USD         14110  4; 8; 11; 20   \n",
      "6020       195.623003            USD         17416  4; 8; 11; 20   \n",
      "...               ...            ...           ...           ...   \n",
      "779608      78.249201            USD           796   4; 5; 8; 11   \n",
      "79876       39.124601            USD         17214  4; 8; 11; 20   \n",
      "1148646     65.207668            USD         15855     4; 11; 20   \n",
      "1137679     32.603834            USD         15086  4; 8; 11; 20   \n",
      "1101093     52.166134            USD          6308  4; 8; 11; 20   \n",
      "\n",
      "                                        food_names  cluster  \n",
      "id                                                           \n",
      "1171671  Beef; Lamb; Game (deer, venison); Poultry        2  \n",
      "4978718    Beef; Pasta; Lamb; Game (deer, venison)        2  \n",
      "2716528  Beef; Lamb; Game (deer, venison); Poultry        2  \n",
      "1179603  Beef; Lamb; Game (deer, venison); Poultry        2  \n",
      "6020     Beef; Lamb; Game (deer, venison); Poultry        2  \n",
      "...                                            ...      ...  \n",
      "779608     Beef; Pasta; Lamb; Game (deer, venison)        2  \n",
      "79876    Beef; Lamb; Game (deer, venison); Poultry        2  \n",
      "1148646        Beef; Game (deer, venison); Poultry        2  \n",
      "1137679  Beef; Lamb; Game (deer, venison); Poultry        2  \n",
      "1101093  Beef; Lamb; Game (deer, venison); Poultry        2  \n",
      "\n",
      "[82 rows x 19 columns]\n"
     ]
    }
   ],
   "source": [
    "our_cluster = wines.loc[wines['cluster'] == 2]\n",
    "flavored_suggestions = our_cluster.loc[our_cluster['flavor1'].isin(mylist)]\n",
    "#flavored_suggestions = flavored_suggestions[:5]\n",
    "print(flavored_suggestions)"
   ]
  },
  {
   "cell_type": "markdown",
   "id": "8582f6af",
   "metadata": {},
   "source": [
    "Now that it's been narrowed down to 82 wines with ideal flavors, let's take into account price:"
   ]
  },
  {
   "cell_type": "code",
   "execution_count": null,
   "id": "263fffa4",
   "metadata": {},
   "outputs": [],
   "source": []
  }
 ],
 "metadata": {
  "kernelspec": {
   "display_name": "Python 3 (ipykernel)",
   "language": "python",
   "name": "python3"
  },
  "language_info": {
   "codemirror_mode": {
    "name": "ipython",
    "version": 3
   },
   "file_extension": ".py",
   "mimetype": "text/x-python",
   "name": "python",
   "nbconvert_exporter": "python",
   "pygments_lexer": "ipython3",
   "version": "3.9.12"
  }
 },
 "nbformat": 4,
 "nbformat_minor": 5
}
